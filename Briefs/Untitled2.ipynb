{
 "cells": [
  {
   "cell_type": "code",
   "execution_count": 3,
   "metadata": {
    "collapsed": false
   },
   "outputs": [
    {
     "ename": "ValueError",
     "evalue": "Expected object or value",
     "traceback": [
      "\u001b[0;31m---------------------------------------------------------------------------\u001b[0m",
      "\u001b[0;31mValueError\u001b[0m                                Traceback (most recent call last)",
      "\u001b[0;32m<ipython-input-3-b5d6aa067579>\u001b[0m in \u001b[0;36m<module>\u001b[0;34m()\u001b[0m\n\u001b[1;32m      4\u001b[0m \u001b[1;31m#filename = 'C:\\Users\\username\\pathToFile\\fileName.json'\u001b[0m\u001b[1;33m\u001b[0m\u001b[1;33m\u001b[0m\u001b[0m\n\u001b[1;32m      5\u001b[0m \u001b[1;31m#filename = 'fileName.json'\u001b[0m\u001b[1;33m\u001b[0m\u001b[1;33m\u001b[0m\u001b[0m\n\u001b[0;32m----> 6\u001b[0;31m \u001b[0mdata\u001b[0m \u001b[1;33m=\u001b[0m \u001b[0mpd\u001b[0m\u001b[1;33m.\u001b[0m\u001b[0mread_json\u001b[0m\u001b[1;33m(\u001b[0m\u001b[0mfilename\u001b[0m\u001b[1;33m)\u001b[0m\u001b[1;33m\u001b[0m\u001b[0m\n\u001b[0m",
      "\u001b[0;32mC:\\Users\\Owner\\Anaconda3\\lib\\site-packages\\pandas\\io\\json.py\u001b[0m in \u001b[0;36mread_json\u001b[0;34m(path_or_buf, orient, typ, dtype, convert_axes, convert_dates, keep_default_dates, numpy, precise_float, date_unit)\u001b[0m\n\u001b[1;32m    209\u001b[0m         obj = FrameParser(json, orient, dtype, convert_axes, convert_dates,\n\u001b[1;32m    210\u001b[0m                           \u001b[0mkeep_default_dates\u001b[0m\u001b[1;33m,\u001b[0m \u001b[0mnumpy\u001b[0m\u001b[1;33m,\u001b[0m \u001b[0mprecise_float\u001b[0m\u001b[1;33m,\u001b[0m\u001b[1;33m\u001b[0m\u001b[0m\n\u001b[0;32m--> 211\u001b[0;31m                           date_unit).parse()\n\u001b[0m\u001b[1;32m    212\u001b[0m \u001b[1;33m\u001b[0m\u001b[0m\n\u001b[1;32m    213\u001b[0m     \u001b[1;32mif\u001b[0m \u001b[0mtyp\u001b[0m \u001b[1;33m==\u001b[0m \u001b[1;34m'series'\u001b[0m \u001b[1;32mor\u001b[0m \u001b[0mobj\u001b[0m \u001b[1;32mis\u001b[0m \u001b[1;32mNone\u001b[0m\u001b[1;33m:\u001b[0m\u001b[1;33m\u001b[0m\u001b[0m\n",
      "\u001b[0;32mC:\\Users\\Owner\\Anaconda3\\lib\\site-packages\\pandas\\io\\json.py\u001b[0m in \u001b[0;36mparse\u001b[0;34m(self)\u001b[0m\n\u001b[1;32m    277\u001b[0m \u001b[1;33m\u001b[0m\u001b[0m\n\u001b[1;32m    278\u001b[0m         \u001b[1;32melse\u001b[0m\u001b[1;33m:\u001b[0m\u001b[1;33m\u001b[0m\u001b[0m\n\u001b[0;32m--> 279\u001b[0;31m             \u001b[0mself\u001b[0m\u001b[1;33m.\u001b[0m\u001b[0m_parse_no_numpy\u001b[0m\u001b[1;33m(\u001b[0m\u001b[1;33m)\u001b[0m\u001b[1;33m\u001b[0m\u001b[0m\n\u001b[0m\u001b[1;32m    280\u001b[0m \u001b[1;33m\u001b[0m\u001b[0m\n\u001b[1;32m    281\u001b[0m         \u001b[1;32mif\u001b[0m \u001b[0mself\u001b[0m\u001b[1;33m.\u001b[0m\u001b[0mobj\u001b[0m \u001b[1;32mis\u001b[0m \u001b[1;32mNone\u001b[0m\u001b[1;33m:\u001b[0m\u001b[1;33m\u001b[0m\u001b[0m\n",
      "\u001b[0;32mC:\\Users\\Owner\\Anaconda3\\lib\\site-packages\\pandas\\io\\json.py\u001b[0m in \u001b[0;36m_parse_no_numpy\u001b[0;34m(self)\u001b[0m\n\u001b[1;32m    494\u001b[0m         \u001b[1;32mif\u001b[0m \u001b[0morient\u001b[0m \u001b[1;33m==\u001b[0m \u001b[1;34m\"columns\"\u001b[0m\u001b[1;33m:\u001b[0m\u001b[1;33m\u001b[0m\u001b[0m\n\u001b[1;32m    495\u001b[0m             self.obj = DataFrame(\n\u001b[0;32m--> 496\u001b[0;31m                 loads(json, precise_float=self.precise_float), dtype=None)\n\u001b[0m\u001b[1;32m    497\u001b[0m         \u001b[1;32melif\u001b[0m \u001b[0morient\u001b[0m \u001b[1;33m==\u001b[0m \u001b[1;34m\"split\"\u001b[0m\u001b[1;33m:\u001b[0m\u001b[1;33m\u001b[0m\u001b[0m\n\u001b[1;32m    498\u001b[0m             decoded = dict((str(k), v)\n",
      "\u001b[0;31mValueError\u001b[0m: Expected object or value"
     ],
     "output_type": "error"
    }
   ],
   "source": [
    "import pandas as pd\n",
    "\n",
    "filename ='Users\\Owner\\PycharmProjects\\CSC3130\\WebProject_KyleMcLean\\Briefs\\2017-02-17.RentBriefs.json'\n",
    "#filename = 'C:\\Users\\username\\pathToFile\\fileName.json'\n",
    "#filename = 'fileName.json'\n",
    "data = pd.read_json(filename)"
   ]
  },
  {
   "cell_type": "code",
   "execution_count": null,
   "metadata": {
    "collapsed": true
   },
   "outputs": [],
   "source": [
    "data"
   ]
  },
  {
   "cell_type": "code",
   "execution_count": 4,
   "metadata": {
    "collapsed": false
   },
   "outputs": [
    {
     "ename": "NameError",
     "evalue": "name 'data' is not defined",
     "traceback": [
      "\u001b[0;31m---------------------------------------------------------------------------\u001b[0m",
      "\u001b[0;31mNameError\u001b[0m                                 Traceback (most recent call last)",
      "\u001b[0;32m<ipython-input-4-6137cde4893c>\u001b[0m in \u001b[0;36m<module>\u001b[0;34m()\u001b[0m\n\u001b[0;32m----> 1\u001b[0;31m \u001b[0mdata\u001b[0m\u001b[1;33m\u001b[0m\u001b[0m\n\u001b[0m",
      "\u001b[0;31mNameError\u001b[0m: name 'data' is not defined"
     ],
     "output_type": "error"
    }
   ],
   "source": [
    "data"
   ]
  },
  {
   "cell_type": "code",
   "execution_count": 6,
   "metadata": {
    "collapsed": false
   },
   "outputs": [],
   "source": [
    "filename ='Users\\Owner\\PycharmProjects\\CSC3130\\WebProject_KyleMcLean\\Briefs\\2017-02-17.RentBriefs.json'\n",
    "#filename = 'C:\\Users\\username\\pathToFile\\fileName.json'\n",
    "#filename = 'fileName.json'\n",
    "data = pd.read_json('2017-02-17.RentBriefs.json')"
   ]
  },
  {
   "cell_type": "code",
   "execution_count": 7,
   "metadata": {
    "collapsed": false
   },
   "outputs": [
    {
     "data": {
      "text/html": [
       "<div>\n",
       "<table border=\"1\" class=\"dataframe\">\n",
       "  <thead>\n",
       "    <tr style=\"text-align: right;\">\n",
       "      <th></th>\n",
       "      <th>location</th>\n",
       "      <th>phone</th>\n",
       "      <th>price</th>\n",
       "      <th>size</th>\n",
       "    </tr>\n",
       "  </thead>\n",
       "  <tbody>\n",
       "    <tr>\n",
       "      <th>0</th>\n",
       "      <td>(Downtown Nashville)</td>\n",
       "      <td>(844) 538-9754</td>\n",
       "      <td>$1399</td>\n",
       "      <td>1 Bed</td>\n",
       "    </tr>\n",
       "    <tr>\n",
       "      <th>1</th>\n",
       "      <td>(Historic Edgefield)</td>\n",
       "      <td>(844) 793-7781</td>\n",
       "      <td>$2000</td>\n",
       "      <td>2 Beds</td>\n",
       "    </tr>\n",
       "    <tr>\n",
       "      <th>2</th>\n",
       "      <td>(Cumberland Gardens)</td>\n",
       "      <td>(844) 887-7125</td>\n",
       "      <td>$850</td>\n",
       "      <td>2 Beds</td>\n",
       "    </tr>\n",
       "    <tr>\n",
       "      <th>3</th>\n",
       "      <td>(East End)</td>\n",
       "      <td>(877) 432-6013</td>\n",
       "      <td>$1500</td>\n",
       "      <td>2 Beds</td>\n",
       "    </tr>\n",
       "    <tr>\n",
       "      <th>4</th>\n",
       "      <td>(West End Park)</td>\n",
       "      <td>(844) 711-6208</td>\n",
       "      <td>$1195</td>\n",
       "      <td>1 Bed</td>\n",
       "    </tr>\n",
       "    <tr>\n",
       "      <th>5</th>\n",
       "      <td>(West End Park)</td>\n",
       "      <td>(844) 629-2927</td>\n",
       "      <td>$2900</td>\n",
       "      <td>3 Beds</td>\n",
       "    </tr>\n",
       "    <tr>\n",
       "      <th>6</th>\n",
       "      <td>(Green Hills)</td>\n",
       "      <td>(888) 923-3149</td>\n",
       "      <td>$1100</td>\n",
       "      <td>1 Bed</td>\n",
       "    </tr>\n",
       "    <tr>\n",
       "      <th>7</th>\n",
       "      <td>(Glencliff Estates)</td>\n",
       "      <td>(888) 630-1984</td>\n",
       "      <td>$1650</td>\n",
       "      <td>3 Beds</td>\n",
       "    </tr>\n",
       "    <tr>\n",
       "      <th>8</th>\n",
       "      <td>None</td>\n",
       "      <td>(844) 509-3762</td>\n",
       "      <td>$2395</td>\n",
       "      <td>4 Beds</td>\n",
       "    </tr>\n",
       "    <tr>\n",
       "      <th>9</th>\n",
       "      <td>(Talbot's Corner)</td>\n",
       "      <td>(844) 320-2437</td>\n",
       "      <td>$1645</td>\n",
       "      <td>3 Beds</td>\n",
       "    </tr>\n",
       "    <tr>\n",
       "      <th>10</th>\n",
       "      <td>None</td>\n",
       "      <td>(844) 783-5359</td>\n",
       "      <td>$1800</td>\n",
       "      <td>3 Beds</td>\n",
       "    </tr>\n",
       "    <tr>\n",
       "      <th>11</th>\n",
       "      <td>(Radnor)</td>\n",
       "      <td>(844) 610-7947</td>\n",
       "      <td>$1250</td>\n",
       "      <td>3 Beds</td>\n",
       "    </tr>\n",
       "    <tr>\n",
       "      <th>12</th>\n",
       "      <td>(Hillwood)</td>\n",
       "      <td>(844) 320-0980</td>\n",
       "      <td>$2000</td>\n",
       "      <td>4 Beds</td>\n",
       "    </tr>\n",
       "    <tr>\n",
       "      <th>13</th>\n",
       "      <td>(River Glen)</td>\n",
       "      <td>(844) 865-5196</td>\n",
       "      <td>$1450</td>\n",
       "      <td>3 Beds</td>\n",
       "    </tr>\n",
       "    <tr>\n",
       "      <th>14</th>\n",
       "      <td>None</td>\n",
       "      <td>(844) 783-5368</td>\n",
       "      <td>$1049</td>\n",
       "      <td>2 Beds</td>\n",
       "    </tr>\n",
       "    <tr>\n",
       "      <th>15</th>\n",
       "      <td>None</td>\n",
       "      <td>(855) 233-2803</td>\n",
       "      <td>$1575</td>\n",
       "      <td>3 Beds</td>\n",
       "    </tr>\n",
       "    <tr>\n",
       "      <th>16</th>\n",
       "      <td>(Bellshire Terrace)</td>\n",
       "      <td>(844) 865-5197</td>\n",
       "      <td>$1395</td>\n",
       "      <td>3 Beds</td>\n",
       "    </tr>\n",
       "    <tr>\n",
       "      <th>17</th>\n",
       "      <td>(Whispering Hills)</td>\n",
       "      <td>(844) 585-1387</td>\n",
       "      <td>$2000</td>\n",
       "      <td>3 Beds</td>\n",
       "    </tr>\n",
       "    <tr>\n",
       "      <th>18</th>\n",
       "      <td>(McMurray)</td>\n",
       "      <td>(844) 792-5991</td>\n",
       "      <td>$1150</td>\n",
       "      <td>2 Beds</td>\n",
       "    </tr>\n",
       "    <tr>\n",
       "      <th>19</th>\n",
       "      <td>None</td>\n",
       "      <td>(844) 322-8969</td>\n",
       "      <td>$1050</td>\n",
       "      <td>2 Beds</td>\n",
       "    </tr>\n",
       "  </tbody>\n",
       "</table>\n",
       "</div>"
      ],
      "text/plain": [
       "                location           phone  price    size\n",
       "0   (Downtown Nashville)  (844) 538-9754  $1399   1 Bed\n",
       "1   (Historic Edgefield)  (844) 793-7781  $2000  2 Beds\n",
       "2   (Cumberland Gardens)  (844) 887-7125   $850  2 Beds\n",
       "3             (East End)  (877) 432-6013  $1500  2 Beds\n",
       "4        (West End Park)  (844) 711-6208  $1195   1 Bed\n",
       "5        (West End Park)  (844) 629-2927  $2900  3 Beds\n",
       "6          (Green Hills)  (888) 923-3149  $1100   1 Bed\n",
       "7    (Glencliff Estates)  (888) 630-1984  $1650  3 Beds\n",
       "8                   None  (844) 509-3762  $2395  4 Beds\n",
       "9      (Talbot's Corner)  (844) 320-2437  $1645  3 Beds\n",
       "10                  None  (844) 783-5359  $1800  3 Beds\n",
       "11              (Radnor)  (844) 610-7947  $1250  3 Beds\n",
       "12            (Hillwood)  (844) 320-0980  $2000  4 Beds\n",
       "13          (River Glen)  (844) 865-5196  $1450  3 Beds\n",
       "14                  None  (844) 783-5368  $1049  2 Beds\n",
       "15                  None  (855) 233-2803  $1575  3 Beds\n",
       "16   (Bellshire Terrace)  (844) 865-5197  $1395  3 Beds\n",
       "17    (Whispering Hills)  (844) 585-1387  $2000  3 Beds\n",
       "18            (McMurray)  (844) 792-5991  $1150  2 Beds\n",
       "19                  None  (844) 322-8969  $1050  2 Beds"
      ]
     },
     "execution_count": 7,
     "metadata": {},
     "output_type": "execute_result"
    }
   ],
   "source": [
    "data"
   ]
  },
  {
   "cell_type": "code",
   "execution_count": null,
   "metadata": {
    "collapsed": true
   },
   "outputs": [],
   "source": [
    ""
   ]
  }
 ],
 "metadata": {
  "anaconda-cloud": {},
  "kernelspec": {
   "display_name": "Python [conda root]",
   "language": "python",
   "name": "conda-root-py"
  },
  "language_info": {
   "codemirror_mode": {
    "name": "ipython",
    "version": 3.0
   },
   "file_extension": ".py",
   "mimetype": "text/x-python",
   "name": "python",
   "nbconvert_exporter": "python",
   "pygments_lexer": "ipython3",
   "version": "3.5.2"
  }
 },
 "nbformat": 4,
 "nbformat_minor": 0
}