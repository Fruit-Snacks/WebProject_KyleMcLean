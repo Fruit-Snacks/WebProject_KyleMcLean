{
 "cells": [
  {
   "cell_type": "code",
   "execution_count": 7,
   "metadata": {
    "collapsed": false
   },
   "outputs": [],
   "source": [
    "import pandas as pd\n",
    "\n",
    "filename = '/Users/Owner/PycharmProjects/CSC3130/WebProject_KyleMcLean/Briefs/2017-02-18.RentBriefs.json'\n",
    "#filename = 'C:\\Users\\username\\pathToFile\\fileName.json'\n",
    "#filename = 'fileName.json'\n",
    "data = pd.read_json(filename)"
   ]
  },
  {
   "cell_type": "code",
   "execution_count": 8,
   "metadata": {
    "collapsed": false
   },
   "outputs": [
    {
     "data": {
      "text/html": [
       "<div>\n",
       "<table border=\"1\" class=\"dataframe\">\n",
       "  <thead>\n",
       "    <tr style=\"text-align: right;\">\n",
       "      <th></th>\n",
       "      <th>location</th>\n",
       "      <th>phone</th>\n",
       "      <th>price</th>\n",
       "      <th>size</th>\n",
       "    </tr>\n",
       "  </thead>\n",
       "  <tbody>\n",
       "    <tr>\n",
       "      <th>0</th>\n",
       "      <td>(Downtown Nashville)</td>\n",
       "      <td>(844) 538-9754</td>\n",
       "      <td>$1399</td>\n",
       "      <td>1 Bed</td>\n",
       "    </tr>\n",
       "    <tr>\n",
       "      <th>1</th>\n",
       "      <td>(Historic Edgefield)</td>\n",
       "      <td>(844) 793-7781</td>\n",
       "      <td>$2000</td>\n",
       "      <td>2 Beds</td>\n",
       "    </tr>\n",
       "    <tr>\n",
       "      <th>2</th>\n",
       "      <td>(Cumberland Gardens)</td>\n",
       "      <td>(844) 887-7125</td>\n",
       "      <td>$850</td>\n",
       "      <td>2 Beds</td>\n",
       "    </tr>\n",
       "    <tr>\n",
       "      <th>3</th>\n",
       "      <td>(East End)</td>\n",
       "      <td>(877) 432-6013</td>\n",
       "      <td>$1500</td>\n",
       "      <td>2 Beds</td>\n",
       "    </tr>\n",
       "    <tr>\n",
       "      <th>4</th>\n",
       "      <td>(West End Park)</td>\n",
       "      <td>(844) 711-6208</td>\n",
       "      <td>$1195</td>\n",
       "      <td>1 Bed</td>\n",
       "    </tr>\n",
       "    <tr>\n",
       "      <th>5</th>\n",
       "      <td>(Green Hills)</td>\n",
       "      <td>(888) 923-3149</td>\n",
       "      <td>$1100</td>\n",
       "      <td>1 Bed</td>\n",
       "    </tr>\n",
       "    <tr>\n",
       "      <th>6</th>\n",
       "      <td>(Glencliff Estates)</td>\n",
       "      <td>(888) 630-1984</td>\n",
       "      <td>$1650</td>\n",
       "      <td>3 Beds</td>\n",
       "    </tr>\n",
       "    <tr>\n",
       "      <th>7</th>\n",
       "      <td>None</td>\n",
       "      <td>(844) 509-3762</td>\n",
       "      <td>$2395</td>\n",
       "      <td>4 Beds</td>\n",
       "    </tr>\n",
       "    <tr>\n",
       "      <th>8</th>\n",
       "      <td>(Talbot's Corner)</td>\n",
       "      <td>(844) 320-2437</td>\n",
       "      <td>$1645</td>\n",
       "      <td>3 Beds</td>\n",
       "    </tr>\n",
       "    <tr>\n",
       "      <th>9</th>\n",
       "      <td>None</td>\n",
       "      <td>(844) 783-5359</td>\n",
       "      <td>$1800</td>\n",
       "      <td>3 Beds</td>\n",
       "    </tr>\n",
       "    <tr>\n",
       "      <th>10</th>\n",
       "      <td>(Radnor)</td>\n",
       "      <td>(844) 610-7947</td>\n",
       "      <td>$1250</td>\n",
       "      <td>3 Beds</td>\n",
       "    </tr>\n",
       "    <tr>\n",
       "      <th>11</th>\n",
       "      <td>(River Glen)</td>\n",
       "      <td>(844) 865-5196</td>\n",
       "      <td>$1450</td>\n",
       "      <td>3 Beds</td>\n",
       "    </tr>\n",
       "    <tr>\n",
       "      <th>12</th>\n",
       "      <td>None</td>\n",
       "      <td>(844) 783-5368</td>\n",
       "      <td>$1049</td>\n",
       "      <td>2 Beds</td>\n",
       "    </tr>\n",
       "    <tr>\n",
       "      <th>13</th>\n",
       "      <td>None</td>\n",
       "      <td>(855) 233-2803</td>\n",
       "      <td>$1575</td>\n",
       "      <td>3 Beds</td>\n",
       "    </tr>\n",
       "    <tr>\n",
       "      <th>14</th>\n",
       "      <td>(Bellshire Terrace)</td>\n",
       "      <td>(844) 865-5197</td>\n",
       "      <td>$1395</td>\n",
       "      <td>3 Beds</td>\n",
       "    </tr>\n",
       "    <tr>\n",
       "      <th>15</th>\n",
       "      <td>(Whispering Hills)</td>\n",
       "      <td>(844) 585-1387</td>\n",
       "      <td>$2000</td>\n",
       "      <td>3 Beds</td>\n",
       "    </tr>\n",
       "    <tr>\n",
       "      <th>16</th>\n",
       "      <td>(McMurray)</td>\n",
       "      <td>(844) 792-5991</td>\n",
       "      <td>$1150</td>\n",
       "      <td>2 Beds</td>\n",
       "    </tr>\n",
       "    <tr>\n",
       "      <th>17</th>\n",
       "      <td>None</td>\n",
       "      <td>(844) 322-8969</td>\n",
       "      <td>$1050</td>\n",
       "      <td>2 Beds</td>\n",
       "    </tr>\n",
       "    <tr>\n",
       "      <th>18</th>\n",
       "      <td>None</td>\n",
       "      <td>(855) 233-2803</td>\n",
       "      <td>$1895</td>\n",
       "      <td>3 Beds</td>\n",
       "    </tr>\n",
       "    <tr>\n",
       "      <th>19</th>\n",
       "      <td>None</td>\n",
       "      <td>(855) 233-2803</td>\n",
       "      <td>$1695</td>\n",
       "      <td>3 Beds</td>\n",
       "    </tr>\n",
       "  </tbody>\n",
       "</table>\n",
       "</div>"
      ],
      "text/plain": [
       "                location           phone  price    size\n",
       "0   (Downtown Nashville)  (844) 538-9754  $1399   1 Bed\n",
       "1   (Historic Edgefield)  (844) 793-7781  $2000  2 Beds\n",
       "2   (Cumberland Gardens)  (844) 887-7125   $850  2 Beds\n",
       "3             (East End)  (877) 432-6013  $1500  2 Beds\n",
       "4        (West End Park)  (844) 711-6208  $1195   1 Bed\n",
       "5          (Green Hills)  (888) 923-3149  $1100   1 Bed\n",
       "6    (Glencliff Estates)  (888) 630-1984  $1650  3 Beds\n",
       "7                   None  (844) 509-3762  $2395  4 Beds\n",
       "8      (Talbot's Corner)  (844) 320-2437  $1645  3 Beds\n",
       "9                   None  (844) 783-5359  $1800  3 Beds\n",
       "10              (Radnor)  (844) 610-7947  $1250  3 Beds\n",
       "11          (River Glen)  (844) 865-5196  $1450  3 Beds\n",
       "12                  None  (844) 783-5368  $1049  2 Beds\n",
       "13                  None  (855) 233-2803  $1575  3 Beds\n",
       "14   (Bellshire Terrace)  (844) 865-5197  $1395  3 Beds\n",
       "15    (Whispering Hills)  (844) 585-1387  $2000  3 Beds\n",
       "16            (McMurray)  (844) 792-5991  $1150  2 Beds\n",
       "17                  None  (844) 322-8969  $1050  2 Beds\n",
       "18                  None  (855) 233-2803  $1895  3 Beds\n",
       "19                  None  (855) 233-2803  $1695  3 Beds"
      ]
     },
     "execution_count": 8,
     "metadata": {},
     "output_type": "execute_result"
    }
   ],
   "source": [
    "data"
   ]
  },
  {
   "cell_type": "code",
   "execution_count": 9,
   "metadata": {
    "collapsed": false
   },
   "outputs": [
    {
     "data": {
      "text/plain": [
       "80"
      ]
     },
     "execution_count": 9,
     "metadata": {},
     "output_type": "execute_result"
    }
   ],
   "source": [
    "data.size"
   ]
  },
  {
   "cell_type": "code",
   "execution_count": 10,
   "metadata": {
    "collapsed": false
   },
   "outputs": [
    {
     "data": {
      "text/plain": [
       "0     $1399\n",
       "1     $2000\n",
       "2      $850\n",
       "3     $1500\n",
       "4     $1195\n",
       "5     $1100\n",
       "6     $1650\n",
       "7     $2395\n",
       "8     $1645\n",
       "9     $1800\n",
       "10    $1250\n",
       "11    $1450\n",
       "12    $1049\n",
       "13    $1575\n",
       "14    $1395\n",
       "15    $2000\n",
       "16    $1150\n",
       "17    $1050\n",
       "18    $1895\n",
       "19    $1695\n",
       "Name: price, dtype: object"
      ]
     },
     "execution_count": 10,
     "metadata": {},
     "output_type": "execute_result"
    }
   ],
   "source": [
    "data.price"
   ]
  },
  {
   "cell_type": "code",
   "execution_count": 11,
   "metadata": {
    "collapsed": false
   },
   "outputs": [
    {
     "ename": "TypeError",
     "evalue": "'numpy.int32' object is not iterable",
     "traceback": [
      "\u001b[0;31m---------------------------------------------------------------------------\u001b[0m",
      "\u001b[0;31mTypeError\u001b[0m                                 Traceback (most recent call last)",
      "\u001b[0;32m<ipython-input-11-511c7b357292>\u001b[0m in \u001b[0;36m<module>\u001b[0;34m()\u001b[0m\n\u001b[0;32m----> 1\u001b[0;31m \u001b[0mset\u001b[0m\u001b[1;33m(\u001b[0m\u001b[0mdata\u001b[0m\u001b[1;33m.\u001b[0m\u001b[0msize\u001b[0m\u001b[1;33m)\u001b[0m\u001b[1;33m\u001b[0m\u001b[0m\n\u001b[0m",
      "\u001b[0;31mTypeError\u001b[0m: 'numpy.int32' object is not iterable"
     ],
     "output_type": "error"
    }
   ],
   "source": [
    "set(data.size)"
   ]
  },
  {
   "cell_type": "code",
   "execution_count": 12,
   "metadata": {
    "collapsed": false
   },
   "outputs": [
    {
     "data": {
      "text/plain": [
       "{'$1049',\n",
       " '$1050',\n",
       " '$1100',\n",
       " '$1150',\n",
       " '$1195',\n",
       " '$1250',\n",
       " '$1395',\n",
       " '$1399',\n",
       " '$1450',\n",
       " '$1500',\n",
       " '$1575',\n",
       " '$1645',\n",
       " '$1650',\n",
       " '$1695',\n",
       " '$1800',\n",
       " '$1895',\n",
       " '$2000',\n",
       " '$2395',\n",
       " '$850'}"
      ]
     },
     "execution_count": 12,
     "metadata": {},
     "output_type": "execute_result"
    }
   ],
   "source": [
    "set(data.price)"
   ]
  },
  {
   "cell_type": "code",
   "execution_count": 13,
   "metadata": {
    "collapsed": false
   },
   "outputs": [
    {
     "ename": "SyntaxError",
     "evalue": "invalid syntax (<ipython-input-13-022b32cc20f7>, line 1)",
     "traceback": [
      "\u001b[0;36m  File \u001b[0;32m\"<ipython-input-13-022b32cc20f7>\"\u001b[0;36m, line \u001b[0;32m1\u001b[0m\n\u001b[0;31m    data.[size]\u001b[0m\n\u001b[0m         ^\u001b[0m\n\u001b[0;31mSyntaxError\u001b[0m\u001b[0;31m:\u001b[0m invalid syntax\n"
     ],
     "output_type": "error"
    }
   ],
   "source": [
    "data.[size]"
   ]
  },
  {
   "cell_type": "code",
   "execution_count": 14,
   "metadata": {
    "collapsed": false
   },
   "outputs": [
    {
     "ename": "SyntaxError",
     "evalue": "invalid syntax (<ipython-input-14-e07c91f54ee6>, line 1)",
     "traceback": [
      "\u001b[0;36m  File \u001b[0;32m\"<ipython-input-14-e07c91f54ee6>\"\u001b[0;36m, line \u001b[0;32m1\u001b[0m\n\u001b[0;31m    data.[\"size\"]\u001b[0m\n\u001b[0m         ^\u001b[0m\n\u001b[0;31mSyntaxError\u001b[0m\u001b[0;31m:\u001b[0m invalid syntax\n"
     ],
     "output_type": "error"
    }
   ],
   "source": [
    "data.[\"size\"]"
   ]
  },
  {
   "cell_type": "code",
   "execution_count": 15,
   "metadata": {
    "collapsed": false
   },
   "outputs": [
    {
     "ename": "SyntaxError",
     "evalue": "invalid syntax (<ipython-input-15-33a0d38b458b>, line 1)",
     "traceback": [
      "\u001b[0;36m  File \u001b[0;32m\"<ipython-input-15-33a0d38b458b>\"\u001b[0;36m, line \u001b[0;32m1\u001b[0m\n\u001b[0;31m    data.{size}\u001b[0m\n\u001b[0m         ^\u001b[0m\n\u001b[0;31mSyntaxError\u001b[0m\u001b[0;31m:\u001b[0m invalid syntax\n"
     ],
     "output_type": "error"
    }
   ],
   "source": [
    "data.{size}"
   ]
  },
  {
   "cell_type": "code",
   "execution_count": 16,
   "metadata": {
    "collapsed": false
   },
   "outputs": [
    {
     "ename": "SyntaxError",
     "evalue": "invalid syntax (<ipython-input-16-8b7d81277564>, line 1)",
     "traceback": [
      "\u001b[0;36m  File \u001b[0;32m\"<ipython-input-16-8b7d81277564>\"\u001b[0;36m, line \u001b[0;32m1\u001b[0m\n\u001b[0;31m    data.\"size\"\u001b[0m\n\u001b[0m              ^\u001b[0m\n\u001b[0;31mSyntaxError\u001b[0m\u001b[0;31m:\u001b[0m invalid syntax\n"
     ],
     "output_type": "error"
    }
   ],
   "source": [
    "data.\"size\""
   ]
  },
  {
   "cell_type": "code",
   "execution_count": 17,
   "metadata": {
    "collapsed": false
   },
   "outputs": [
    {
     "name": "stdout",
     "output_type": "stream",
     "text": [
      "(East End)\n",
      "\n",
      "(West End Park)\n",
      "\n"
     ]
    },
    {
     "ename": "TypeError",
     "evalue": "argument of type 'NoneType' is not iterable",
     "traceback": [
      "\u001b[0;31m---------------------------------------------------------------------------\u001b[0m",
      "\u001b[0;31mTypeError\u001b[0m                                 Traceback (most recent call last)",
      "\u001b[0;32m<ipython-input-17-8544b8eb6ced>\u001b[0m in \u001b[0;36m<module>\u001b[0;34m()\u001b[0m\n\u001b[1;32m      1\u001b[0m \u001b[0mi\u001b[0m \u001b[1;33m=\u001b[0m \u001b[1;36m0\u001b[0m\u001b[1;33m\u001b[0m\u001b[0m\n\u001b[1;32m      2\u001b[0m \u001b[1;32mfor\u001b[0m \u001b[0mstuff\u001b[0m \u001b[1;32min\u001b[0m \u001b[0mdata\u001b[0m\u001b[1;33m.\u001b[0m\u001b[0mlocation\u001b[0m\u001b[1;33m:\u001b[0m\u001b[1;33m\u001b[0m\u001b[0m\n\u001b[0;32m----> 3\u001b[0;31m     \u001b[1;32mif\u001b[0m\u001b[1;33m(\u001b[0m\u001b[1;34m'End'\u001b[0m\u001b[1;33m)\u001b[0m \u001b[1;32min\u001b[0m \u001b[0mstuff\u001b[0m\u001b[1;33m:\u001b[0m\u001b[1;33m\u001b[0m\u001b[0m\n\u001b[0m\u001b[1;32m      4\u001b[0m         \u001b[0mprint\u001b[0m\u001b[1;33m(\u001b[0m\u001b[0mstuff\u001b[0m\u001b[1;33m)\u001b[0m\u001b[1;33m\u001b[0m\u001b[0m\n\u001b[1;32m      5\u001b[0m         \u001b[0mprint\u001b[0m\u001b[1;33m(\u001b[0m\u001b[1;33m)\u001b[0m\u001b[1;33m\u001b[0m\u001b[0m\n",
      "\u001b[0;31mTypeError\u001b[0m: argument of type 'NoneType' is not iterable"
     ],
     "output_type": "error"
    }
   ],
   "source": [
    "i = 0\n",
    "for stuff in data.location:\n",
    "    if('End') in stuff:\n",
    "        print(stuff)\n",
    "        print()\n",
    "        i += 1\n",
    "print(i)"
   ]
  },
  {
   "cell_type": "code",
   "execution_count": 18,
   "metadata": {
    "collapsed": false
   },
   "outputs": [
    {
     "data": {
      "text/html": [
       "<div>\n",
       "<table border=\"1\" class=\"dataframe\">\n",
       "  <thead>\n",
       "    <tr style=\"text-align: right;\">\n",
       "      <th></th>\n",
       "      <th>location</th>\n",
       "      <th>phone</th>\n",
       "      <th>price</th>\n",
       "      <th>size</th>\n",
       "    </tr>\n",
       "  </thead>\n",
       "  <tbody>\n",
       "    <tr>\n",
       "      <th>12</th>\n",
       "      <td>None</td>\n",
       "      <td>(844) 783-5368</td>\n",
       "      <td>$1049</td>\n",
       "      <td>2 Beds</td>\n",
       "    </tr>\n",
       "    <tr>\n",
       "      <th>17</th>\n",
       "      <td>None</td>\n",
       "      <td>(844) 322-8969</td>\n",
       "      <td>$1050</td>\n",
       "      <td>2 Beds</td>\n",
       "    </tr>\n",
       "    <tr>\n",
       "      <th>5</th>\n",
       "      <td>(Green Hills)</td>\n",
       "      <td>(888) 923-3149</td>\n",
       "      <td>$1100</td>\n",
       "      <td>1 Bed</td>\n",
       "    </tr>\n",
       "    <tr>\n",
       "      <th>16</th>\n",
       "      <td>(McMurray)</td>\n",
       "      <td>(844) 792-5991</td>\n",
       "      <td>$1150</td>\n",
       "      <td>2 Beds</td>\n",
       "    </tr>\n",
       "    <tr>\n",
       "      <th>4</th>\n",
       "      <td>(West End Park)</td>\n",
       "      <td>(844) 711-6208</td>\n",
       "      <td>$1195</td>\n",
       "      <td>1 Bed</td>\n",
       "    </tr>\n",
       "    <tr>\n",
       "      <th>10</th>\n",
       "      <td>(Radnor)</td>\n",
       "      <td>(844) 610-7947</td>\n",
       "      <td>$1250</td>\n",
       "      <td>3 Beds</td>\n",
       "    </tr>\n",
       "    <tr>\n",
       "      <th>14</th>\n",
       "      <td>(Bellshire Terrace)</td>\n",
       "      <td>(844) 865-5197</td>\n",
       "      <td>$1395</td>\n",
       "      <td>3 Beds</td>\n",
       "    </tr>\n",
       "    <tr>\n",
       "      <th>0</th>\n",
       "      <td>(Downtown Nashville)</td>\n",
       "      <td>(844) 538-9754</td>\n",
       "      <td>$1399</td>\n",
       "      <td>1 Bed</td>\n",
       "    </tr>\n",
       "    <tr>\n",
       "      <th>11</th>\n",
       "      <td>(River Glen)</td>\n",
       "      <td>(844) 865-5196</td>\n",
       "      <td>$1450</td>\n",
       "      <td>3 Beds</td>\n",
       "    </tr>\n",
       "    <tr>\n",
       "      <th>3</th>\n",
       "      <td>(East End)</td>\n",
       "      <td>(877) 432-6013</td>\n",
       "      <td>$1500</td>\n",
       "      <td>2 Beds</td>\n",
       "    </tr>\n",
       "    <tr>\n",
       "      <th>13</th>\n",
       "      <td>None</td>\n",
       "      <td>(855) 233-2803</td>\n",
       "      <td>$1575</td>\n",
       "      <td>3 Beds</td>\n",
       "    </tr>\n",
       "    <tr>\n",
       "      <th>8</th>\n",
       "      <td>(Talbot's Corner)</td>\n",
       "      <td>(844) 320-2437</td>\n",
       "      <td>$1645</td>\n",
       "      <td>3 Beds</td>\n",
       "    </tr>\n",
       "    <tr>\n",
       "      <th>6</th>\n",
       "      <td>(Glencliff Estates)</td>\n",
       "      <td>(888) 630-1984</td>\n",
       "      <td>$1650</td>\n",
       "      <td>3 Beds</td>\n",
       "    </tr>\n",
       "    <tr>\n",
       "      <th>19</th>\n",
       "      <td>None</td>\n",
       "      <td>(855) 233-2803</td>\n",
       "      <td>$1695</td>\n",
       "      <td>3 Beds</td>\n",
       "    </tr>\n",
       "    <tr>\n",
       "      <th>9</th>\n",
       "      <td>None</td>\n",
       "      <td>(844) 783-5359</td>\n",
       "      <td>$1800</td>\n",
       "      <td>3 Beds</td>\n",
       "    </tr>\n",
       "    <tr>\n",
       "      <th>18</th>\n",
       "      <td>None</td>\n",
       "      <td>(855) 233-2803</td>\n",
       "      <td>$1895</td>\n",
       "      <td>3 Beds</td>\n",
       "    </tr>\n",
       "    <tr>\n",
       "      <th>15</th>\n",
       "      <td>(Whispering Hills)</td>\n",
       "      <td>(844) 585-1387</td>\n",
       "      <td>$2000</td>\n",
       "      <td>3 Beds</td>\n",
       "    </tr>\n",
       "    <tr>\n",
       "      <th>1</th>\n",
       "      <td>(Historic Edgefield)</td>\n",
       "      <td>(844) 793-7781</td>\n",
       "      <td>$2000</td>\n",
       "      <td>2 Beds</td>\n",
       "    </tr>\n",
       "    <tr>\n",
       "      <th>7</th>\n",
       "      <td>None</td>\n",
       "      <td>(844) 509-3762</td>\n",
       "      <td>$2395</td>\n",
       "      <td>4 Beds</td>\n",
       "    </tr>\n",
       "    <tr>\n",
       "      <th>2</th>\n",
       "      <td>(Cumberland Gardens)</td>\n",
       "      <td>(844) 887-7125</td>\n",
       "      <td>$850</td>\n",
       "      <td>2 Beds</td>\n",
       "    </tr>\n",
       "  </tbody>\n",
       "</table>\n",
       "</div>"
      ],
      "text/plain": [
       "                location           phone  price    size\n",
       "12                  None  (844) 783-5368  $1049  2 Beds\n",
       "17                  None  (844) 322-8969  $1050  2 Beds\n",
       "5          (Green Hills)  (888) 923-3149  $1100   1 Bed\n",
       "16            (McMurray)  (844) 792-5991  $1150  2 Beds\n",
       "4        (West End Park)  (844) 711-6208  $1195   1 Bed\n",
       "10              (Radnor)  (844) 610-7947  $1250  3 Beds\n",
       "14   (Bellshire Terrace)  (844) 865-5197  $1395  3 Beds\n",
       "0   (Downtown Nashville)  (844) 538-9754  $1399   1 Bed\n",
       "11          (River Glen)  (844) 865-5196  $1450  3 Beds\n",
       "3             (East End)  (877) 432-6013  $1500  2 Beds\n",
       "13                  None  (855) 233-2803  $1575  3 Beds\n",
       "8      (Talbot's Corner)  (844) 320-2437  $1645  3 Beds\n",
       "6    (Glencliff Estates)  (888) 630-1984  $1650  3 Beds\n",
       "19                  None  (855) 233-2803  $1695  3 Beds\n",
       "9                   None  (844) 783-5359  $1800  3 Beds\n",
       "18                  None  (855) 233-2803  $1895  3 Beds\n",
       "15    (Whispering Hills)  (844) 585-1387  $2000  3 Beds\n",
       "1   (Historic Edgefield)  (844) 793-7781  $2000  2 Beds\n",
       "7                   None  (844) 509-3762  $2395  4 Beds\n",
       "2   (Cumberland Gardens)  (844) 887-7125   $850  2 Beds"
      ]
     },
     "execution_count": 18,
     "metadata": {},
     "output_type": "execute_result"
    }
   ],
   "source": [
    "data.sort_values('price')"
   ]
  },
  {
   "cell_type": "code",
   "execution_count": 19,
   "metadata": {
    "collapsed": false
   },
   "outputs": [
    {
     "ename": "SyntaxError",
     "evalue": "invalid syntax (<ipython-input-19-d19798df8860>, line 1)",
     "traceback": [
      "\u001b[0;36m  File \u001b[0;32m\"<ipython-input-19-d19798df8860>\"\u001b[0;36m, line \u001b[0;32m1\u001b[0m\n\u001b[0;31m    data.'size'\u001b[0m\n\u001b[0m              ^\u001b[0m\n\u001b[0;31mSyntaxError\u001b[0m\u001b[0;31m:\u001b[0m invalid syntax\n"
     ],
     "output_type": "error"
    }
   ],
   "source": [
    "data.'size'"
   ]
  },
  {
   "cell_type": "code",
   "execution_count": 20,
   "metadata": {
    "collapsed": false
   },
   "outputs": [
    {
     "ename": "SyntaxError",
     "evalue": "invalid syntax (<ipython-input-20-022b32cc20f7>, line 1)",
     "traceback": [
      "\u001b[0;36m  File \u001b[0;32m\"<ipython-input-20-022b32cc20f7>\"\u001b[0;36m, line \u001b[0;32m1\u001b[0m\n\u001b[0;31m    data.[size]\u001b[0m\n\u001b[0m         ^\u001b[0m\n\u001b[0;31mSyntaxError\u001b[0m\u001b[0;31m:\u001b[0m invalid syntax\n"
     ],
     "output_type": "error"
    }
   ],
   "source": [
    "data.[size]"
   ]
  },
  {
   "cell_type": "code",
   "execution_count": 21,
   "metadata": {
    "collapsed": false
   },
   "outputs": [
    {
     "ename": "SyntaxError",
     "evalue": "invalid syntax (<ipython-input-21-8b7d81277564>, line 1)",
     "traceback": [
      "\u001b[0;36m  File \u001b[0;32m\"<ipython-input-21-8b7d81277564>\"\u001b[0;36m, line \u001b[0;32m1\u001b[0m\n\u001b[0;31m    data.\"size\"\u001b[0m\n\u001b[0m              ^\u001b[0m\n\u001b[0;31mSyntaxError\u001b[0m\u001b[0;31m:\u001b[0m invalid syntax\n"
     ],
     "output_type": "error"
    }
   ],
   "source": [
    "data.\"size\""
   ]
  },
  {
   "cell_type": "code",
   "execution_count": 22,
   "metadata": {
    "collapsed": true
   },
   "outputs": [],
   "source": [
    "import matplotlib\n",
    "import matplotlib.pyplot as plt\n",
    "%matplotlib inline"
   ]
  },
  {
   "cell_type": "code",
   "execution_count": 23,
   "metadata": {
    "collapsed": false
   },
   "outputs": [
    {
     "data": {
      "image/png": "[encoded data removed]",
      "text/plain": [
       "<matplotlib.figure.Figure at 0x87272e8>"
      ]
     },
     "metadata": {},
     "output_type": "display_data"
    }
   ],
   "source": [
    "data['price'].value_counts().plot.bar(figsize = (10,6))\n",
    "plt.show()"
   ]
  },
  {
   "cell_type": "code",
   "execution_count": null,
   "metadata": {
    "collapsed": true
   },
   "outputs": [],
   "source": [
    ""
   ]
  }
 ],
 "metadata": {
  "anaconda-cloud": {},
  "kernelspec": {
   "display_name": "Python [conda root]",
   "language": "python",
   "name": "conda-root-py"
  },
  "language_info": {
   "codemirror_mode": {
    "name": "ipython",
    "version": 3.0
   },
   "file_extension": ".py",
   "mimetype": "text/x-python",
   "name": "python",
   "nbconvert_exporter": "python",
   "pygments_lexer": "ipython3",
   "version": "3.5.2"
  }
 },
 "nbformat": 4,
 "nbformat_minor": 0
}